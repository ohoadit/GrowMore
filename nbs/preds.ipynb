{
 "cells": [
  {
   "cell_type": "code",
   "execution_count": 84,
   "id": "e6efffe7",
   "metadata": {},
   "outputs": [],
   "source": [
    "import pandas as pd\n",
    "import re\n",
    "from vaderSentiment.vaderSentiment import SentimentIntensityAnalyzer\n",
    "import matplotlib.pyplot as plt\n",
    "import seaborn as sns\n",
    "from datetime import date\n",
    "import numpy as np\n",
    "from datetime import timedelta\n",
    "from tqdm import tqdm\n",
    "from sklearn.preprocessing import MinMaxScaler\n",
    "import tensorflow as tf \n",
    "from keras.callbacks import TensorBoard\n",
    "from tensorflow import keras\n",
    "\n",
    "from keras.models import Sequential\n",
    "from keras.layers import Dense\n",
    "from keras.layers import LSTM\n",
    "from keras.layers import Dropout\n",
    "from keras.layers import *\n",
    "from sklearn.preprocessing import MinMaxScaler\n",
    "from sklearn.metrics import mean_squared_error\n",
    "from sklearn.metrics import mean_absolute_error\n",
    "from sklearn.model_selection import train_test_split\n",
    "from keras.callbacks import EarlyStopping\n",
    "\n",
    "from tensorflow.keras import backend as K"
   ]
  },
  {
   "cell_type": "code",
   "execution_count": 111,
   "id": "e46c33a7",
   "metadata": {},
   "outputs": [],
   "source": [
    "bo = pd.read_csv('../preprocessed/co.csv')"
   ]
  },
  {
   "cell_type": "code",
   "execution_count": 112,
   "id": "fa8f515c",
   "metadata": {},
   "outputs": [
    {
     "data": {
      "text/html": [
       "<div>\n",
       "<style scoped>\n",
       "    .dataframe tbody tr th:only-of-type {\n",
       "        vertical-align: middle;\n",
       "    }\n",
       "\n",
       "    .dataframe tbody tr th {\n",
       "        vertical-align: top;\n",
       "    }\n",
       "\n",
       "    .dataframe thead th {\n",
       "        text-align: right;\n",
       "    }\n",
       "</style>\n",
       "<table border=\"1\" class=\"dataframe\">\n",
       "  <thead>\n",
       "    <tr style=\"text-align: right;\">\n",
       "      <th></th>\n",
       "      <th>Unnamed: 0</th>\n",
       "      <th>Date</th>\n",
       "      <th>score</th>\n",
       "      <th>Close</th>\n",
       "    </tr>\n",
       "  </thead>\n",
       "  <tbody>\n",
       "    <tr>\n",
       "      <th>0</th>\n",
       "      <td>0</td>\n",
       "      <td>2019-11-13</td>\n",
       "      <td>0.5000</td>\n",
       "      <td>96.309998</td>\n",
       "    </tr>\n",
       "    <tr>\n",
       "      <th>1</th>\n",
       "      <td>1</td>\n",
       "      <td>2019-11-14</td>\n",
       "      <td>0.5000</td>\n",
       "      <td>96.639999</td>\n",
       "    </tr>\n",
       "    <tr>\n",
       "      <th>2</th>\n",
       "      <td>2</td>\n",
       "      <td>2019-11-15</td>\n",
       "      <td>0.5000</td>\n",
       "      <td>97.379997</td>\n",
       "    </tr>\n",
       "    <tr>\n",
       "      <th>3</th>\n",
       "      <td>3</td>\n",
       "      <td>2019-11-18</td>\n",
       "      <td>0.5000</td>\n",
       "      <td>97.199997</td>\n",
       "    </tr>\n",
       "    <tr>\n",
       "      <th>4</th>\n",
       "      <td>4</td>\n",
       "      <td>2019-11-19</td>\n",
       "      <td>0.5000</td>\n",
       "      <td>97.070000</td>\n",
       "    </tr>\n",
       "    <tr>\n",
       "      <th>...</th>\n",
       "      <td>...</td>\n",
       "      <td>...</td>\n",
       "      <td>...</td>\n",
       "      <td>...</td>\n",
       "    </tr>\n",
       "    <tr>\n",
       "      <th>500</th>\n",
       "      <td>500</td>\n",
       "      <td>2021-11-08</td>\n",
       "      <td>0.5000</td>\n",
       "      <td>155.520004</td>\n",
       "    </tr>\n",
       "    <tr>\n",
       "      <th>501</th>\n",
       "      <td>501</td>\n",
       "      <td>2021-11-09</td>\n",
       "      <td>0.8779</td>\n",
       "      <td>155.419998</td>\n",
       "    </tr>\n",
       "    <tr>\n",
       "      <th>502</th>\n",
       "      <td>502</td>\n",
       "      <td>2021-11-10</td>\n",
       "      <td>0.9020</td>\n",
       "      <td>156.279999</td>\n",
       "    </tr>\n",
       "    <tr>\n",
       "      <th>503</th>\n",
       "      <td>503</td>\n",
       "      <td>2021-11-11</td>\n",
       "      <td>0.0000</td>\n",
       "      <td>157.149994</td>\n",
       "    </tr>\n",
       "    <tr>\n",
       "      <th>504</th>\n",
       "      <td>504</td>\n",
       "      <td>2021-11-12</td>\n",
       "      <td>0.5000</td>\n",
       "      <td>156.800003</td>\n",
       "    </tr>\n",
       "  </tbody>\n",
       "</table>\n",
       "<p>505 rows × 4 columns</p>\n",
       "</div>"
      ],
      "text/plain": [
       "     Unnamed: 0        Date   score       Close\n",
       "0             0  2019-11-13  0.5000   96.309998\n",
       "1             1  2019-11-14  0.5000   96.639999\n",
       "2             2  2019-11-15  0.5000   97.379997\n",
       "3             3  2019-11-18  0.5000   97.199997\n",
       "4             4  2019-11-19  0.5000   97.070000\n",
       "..          ...         ...     ...         ...\n",
       "500         500  2021-11-08  0.5000  155.520004\n",
       "501         501  2021-11-09  0.8779  155.419998\n",
       "502         502  2021-11-10  0.9020  156.279999\n",
       "503         503  2021-11-11  0.0000  157.149994\n",
       "504         504  2021-11-12  0.5000  156.800003\n",
       "\n",
       "[505 rows x 4 columns]"
      ]
     },
     "execution_count": 112,
     "metadata": {},
     "output_type": "execute_result"
    }
   ],
   "source": [
    "bo"
   ]
  },
  {
   "cell_type": "code",
   "execution_count": 113,
   "id": "2fdf412d",
   "metadata": {},
   "outputs": [
    {
     "name": "stdout",
     "output_type": "stream",
     "text": [
      "323 81 101\n"
     ]
    }
   ],
   "source": [
    "train_data, test_data  = bo[0:int(len(bo)*0.8)], bo[int(len(bo)*0.8):]\n",
    "\n",
    "X_train, X_cv = train_data[0:int(len(train_data)*0.8)], train_data[int(len(train_data)*0.8):]\n",
    "print(len(X_train), len(X_cv), len(test_data))"
   ]
  },
  {
   "cell_type": "code",
   "execution_count": 114,
   "id": "6cf901ce",
   "metadata": {},
   "outputs": [],
   "source": [
    "def create_dataset(dataset, scoreset, look_back=1):\n",
    "\tdataX, dataY = [], []\n",
    "\tfor i in range(len(dataset)-look_back-1):\n",
    "\t\ta = dataset[i:(i+look_back), 0]\n",
    "\t\tb = scoreset[i+look_back-1]\n",
    "\t\tdataX.append(np.append(a,b))\n",
    "\t\tdataY.append(dataset[i + look_back, 0])\n",
    "\treturn np.array(dataX), np.array(dataY)"
   ]
  },
  {
   "cell_type": "code",
   "execution_count": 115,
   "id": "7a0c82f8",
   "metadata": {},
   "outputs": [],
   "source": [
    "\n",
    "# Feature Scaling\n",
    "sc = MinMaxScaler()\n",
    "training_set_scaled = sc.fit_transform(X_train['Close'].values.reshape(-1, 1))\n",
    "cv_set_scaled = sc.transform(X_cv['Close'].values.reshape(-1, 1))\n",
    "test_set_scaled = sc.transform(test_data['Close'].values.reshape(-1, 1))\n",
    "\n",
    "sc1 = MinMaxScaler()\n",
    "training_score_scaled = sc1.fit_transform(X_train['score'].values.reshape(-1, 1))\n",
    "cv_score_scaled = sc1.transform(X_cv['score'].values.reshape(-1, 1))\n",
    "test_score_scaled = sc1.transform(test_data['score'].values.reshape(-1, 1))\n",
    "\n",
    "#Creating Dataset with window size = 60 + News Sentiment of Last Day\n",
    "trainX, trainY = create_dataset(training_set_scaled, training_score_scaled, 10)\n",
    "cvX, cvY = create_dataset(cv_set_scaled, cv_score_scaled, 10)\n",
    "testX, testY = create_dataset(test_set_scaled, test_score_scaled, 10)\n"
   ]
  },
  {
   "cell_type": "code",
   "execution_count": 116,
   "id": "7aebc913",
   "metadata": {},
   "outputs": [
    {
     "data": {
      "text/plain": [
       "((312, 11), (70, 11), (90, 11))"
      ]
     },
     "execution_count": 116,
     "metadata": {},
     "output_type": "execute_result"
    }
   ],
   "source": [
    "trainX.shape, cvX.shape, testX.shape"
   ]
  },
  {
   "cell_type": "code",
   "execution_count": 117,
   "id": "f7b6056e",
   "metadata": {},
   "outputs": [],
   "source": [
    "trainX, trainY = np.array(trainX), np.array(trainY)\n",
    "trainX = np.reshape(trainX, (trainX.shape[0], trainX.shape[1], 1))\n",
    "\n",
    "cvX, cvY = np.array(cvX), np.array(cvY)\n",
    "cvX = np.reshape(cvX, (cvX.shape[0], cvX.shape[1], 1))\n",
    "\n",
    "testX, testY = np.array(testX), np.array(testY)\n",
    "testX = np.reshape(testX, (testX.shape[0], testX.shape[1], 1))"
   ]
  },
  {
   "cell_type": "code",
   "execution_count": 118,
   "id": "bc74c5db",
   "metadata": {},
   "outputs": [],
   "source": [
    "def root_mean_squared_error(y_true, y_pred):\n",
    "    return K.sqrt(K.mean(K.square(y_pred - y_true)))"
   ]
  },
  {
   "cell_type": "code",
   "execution_count": 119,
   "id": "c2672901",
   "metadata": {},
   "outputs": [
    {
     "name": "stdout",
     "output_type": "stream",
     "text": [
      "WARNING:tensorflow:5 out of the last 13 calls to <function Model.make_predict_function.<locals>.predict_function at 0x7f537fff4f70> triggered tf.function retracing. Tracing is expensive and the excessive number of tracings could be due to (1) creating @tf.function repeatedly in a loop, (2) passing tensors with different shapes, (3) passing Python objects instead of tensors. For (1), please define your @tf.function outside of the loop. For (2), @tf.function has experimental_relax_shapes=True option that relaxes argument shapes that can avoid unnecessary retracing. For (3), please refer to https://www.tensorflow.org/guide/function#controlling_retracing and https://www.tensorflow.org/api_docs/python/tf/function for  more details.\n"
     ]
    }
   ],
   "source": [
    "model = keras.models.load_model('./../models/model_morganStanley.h5')\n",
    "\n",
    "predicted_stock_price = model.predict(testX)\n",
    "\n",
    "predicted_stock_price = sc.inverse_transform(predicted_stock_price)"
   ]
  },
  {
   "cell_type": "code",
   "execution_count": 120,
   "id": "ebf8dec6",
   "metadata": {},
   "outputs": [
    {
     "data": {
      "text/plain": [
       "array([[160.92471],\n",
       "       [160.30135],\n",
       "       [160.69264],\n",
       "       [162.11235],\n",
       "       [163.64009],\n",
       "       [164.53679],\n",
       "       [165.23587],\n",
       "       [165.31517],\n",
       "       [164.5217 ],\n",
       "       [163.94687],\n",
       "       [164.18648],\n",
       "       [164.53778],\n",
       "       [164.8185 ],\n",
       "       [165.4326 ],\n",
       "       [166.17087],\n",
       "       [166.70921],\n",
       "       [167.42944],\n",
       "       [167.80807],\n",
       "       [167.72562],\n",
       "       [167.5899 ],\n",
       "       [167.41777],\n",
       "       [167.53937],\n",
       "       [168.15797],\n",
       "       [169.00616],\n",
       "       [170.53818],\n",
       "       [172.77148],\n",
       "       [175.46063],\n",
       "       [178.20616],\n",
       "       [180.59889],\n",
       "       [181.95697],\n",
       "       [182.43445],\n",
       "       [181.7891 ],\n",
       "       [180.6263 ],\n",
       "       [179.42694],\n",
       "       [178.42868],\n",
       "       [178.23668],\n",
       "       [178.20567],\n",
       "       [178.935  ],\n",
       "       [178.49535],\n",
       "       [177.69151],\n",
       "       [176.08972],\n",
       "       [173.99658],\n",
       "       [171.4416 ],\n",
       "       [168.8949 ],\n",
       "       [166.3243 ],\n",
       "       [164.26407],\n",
       "       [162.70366],\n",
       "       [162.11832],\n",
       "       [161.46266],\n",
       "       [161.52713],\n",
       "       [162.08601],\n",
       "       [162.75671],\n",
       "       [162.96962],\n",
       "       [162.94667],\n",
       "       [163.18996],\n",
       "       [164.39108],\n",
       "       [165.9485 ],\n",
       "       [168.0841 ],\n",
       "       [169.93115],\n",
       "       [171.34349],\n",
       "       [171.73076],\n",
       "       [172.16629],\n",
       "       [172.39359],\n",
       "       [172.82724],\n",
       "       [173.1875 ],\n",
       "       [173.53642],\n",
       "       [174.00201],\n",
       "       [174.12355],\n",
       "       [174.28206],\n",
       "       [173.61961],\n",
       "       [174.22122],\n",
       "       [174.39763],\n",
       "       [174.22205],\n",
       "       [174.74641],\n",
       "       [173.56915],\n",
       "       [175.60332],\n",
       "       [176.0609 ],\n",
       "       [175.66226],\n",
       "       [175.18552],\n",
       "       [173.6356 ],\n",
       "       [170.57437],\n",
       "       [166.08777],\n",
       "       [163.89207],\n",
       "       [160.6287 ],\n",
       "       [160.11603],\n",
       "       [159.6041 ],\n",
       "       [159.15802],\n",
       "       [158.01807],\n",
       "       [159.69096],\n",
       "       [160.40242]], dtype=float32)"
      ]
     },
     "execution_count": 120,
     "metadata": {},
     "output_type": "execute_result"
    }
   ],
   "source": [
    "predicted_stock_price"
   ]
  },
  {
   "cell_type": "code",
   "execution_count": 121,
   "id": "9b7f9302",
   "metadata": {},
   "outputs": [
    {
     "data": {
      "image/png": "[encoded data removed]",
      "text/plain": [
       "<Figure size 1152x432 with 1 Axes>"
      ]
     },
     "metadata": {
      "needs_background": "light"
     },
     "output_type": "display_data"
    },
    {
     "name": "stdout",
     "output_type": "stream",
     "text": [
      "RMSE_LSTM = 8.843768269674156\n"
     ]
    }
   ],
   "source": [
    "plt.figure(figsize=(16, 6))\n",
    "plt.plot(train_data['Date'], train_data['Close'], color = 'blue', label = 'Train Data')\n",
    "plt.plot(test_data['Date'], test_data['Close'].values, color = 'orange', label = 'Test Data')\n",
    "plt.plot(test_data.iloc[11:]['Date'], predicted_stock_price, color = 'green', label = 'Predicted Data')\n",
    "plt.title('Price Prediction using LSTM')\n",
    "plt.xlabel('Years')\n",
    "plt.ylabel('Prices')\n",
    "plt.legend()\n",
    "plt.show()\n",
    "from math import sqrt\n",
    "\n",
    "RMSE_LSTM = sqrt(mean_squared_error(test_data.iloc[11:]['Close'].values, predicted_stock_price))\n",
    "\n",
    "print(f\"RMSE_LSTM = {RMSE_LSTM}\")"
   ]
  },
  {
   "cell_type": "code",
   "execution_count": 122,
   "id": "0c0fd0fa",
   "metadata": {},
   "outputs": [],
   "source": [
    "df = pd.DataFrame(bo['Date'][len(bo)-90:len(bo),])  ## pred dates\n",
    "curr_date = df['Date'][415] # current future date\n",
    "\n"
   ]
  },
  {
   "cell_type": "code",
   "execution_count": 123,
   "id": "8de58715",
   "metadata": {},
   "outputs": [
    {
     "data": {
      "text/plain": [
       "152.46000700000002"
      ]
     },
     "execution_count": 123,
     "metadata": {},
     "output_type": "execute_result"
    }
   ],
   "source": [
    "last_price = bo['Close'][414]  # last closing price before today\n",
    "last_price"
   ]
  },
  {
   "cell_type": "code",
   "execution_count": 124,
   "id": "ec305e8f",
   "metadata": {},
   "outputs": [],
   "source": [
    "pred_price = predicted_stock_price[0][0]# pred stock price"
   ]
  },
  {
   "cell_type": "code",
   "execution_count": 125,
   "id": "18ee5a03",
   "metadata": {},
   "outputs": [],
   "source": [
    "percent_movement = (predicted_stock_price[0][0]-last_price)/last_price*100 #stock movement"
   ]
  },
  {
   "cell_type": "code",
   "execution_count": 126,
   "id": "1afb8c52",
   "metadata": {},
   "outputs": [
    {
     "data": {
      "text/plain": [
       "62.80760695270704"
      ]
     },
     "execution_count": 126,
     "metadata": {},
     "output_type": "execute_result"
    }
   ],
   "source": [
    "start_price = bo['Close'][0]\n",
    "end_price = bo['Close'][504]\n",
    "\n",
    "net_change = end_price-start_price\n",
    "net_change\n",
    "\n",
    "total_movement = net_change/start_price*100\n",
    "total_movement"
   ]
  },
  {
   "cell_type": "code",
   "execution_count": 127,
   "id": "83cca326",
   "metadata": {},
   "outputs": [
    {
     "data": {
      "text/plain": [
       "156.02909009090908"
      ]
     },
     "execution_count": 127,
     "metadata": {},
     "output_type": "execute_result"
    }
   ],
   "source": [
    "sd = bo['Close'][404:415].std()\n",
    "sd\n",
    "\n",
    "mean = bo['Close'][404:415].mean()\n",
    "mean\n",
    "\n"
   ]
  },
  {
   "cell_type": "code",
   "execution_count": 128,
   "id": "755516f5",
   "metadata": {},
   "outputs": [
    {
     "data": {
      "text/plain": [
       "'Sell'"
      ]
     },
     "execution_count": 128,
     "metadata": {},
     "output_type": "execute_result"
    }
   ],
   "source": [
    "sma10 = bo['Close'].rolling(window = 10).mean()\n",
    "sma10 = sma10.mean()\n",
    "\n",
    "n=1\n",
    "\n",
    "decision =\"\"\n",
    "\n",
    "if (pred_price<=(mean-n*sd)):\n",
    "    decision = \"Buy\"\n",
    "elif (pred_price>=(mean+n*sd)):\n",
    "    decision=\"Sell\"\n",
    "else:\n",
    "    decision=\"Hold\"\n",
    "    \n",
    "decision"
   ]
  },
  {
   "cell_type": "code",
   "execution_count": 129,
   "id": "311cc190",
   "metadata": {},
   "outputs": [
    {
     "data": {
      "text/plain": [
       "160.92471"
      ]
     },
     "execution_count": 129,
     "metadata": {},
     "output_type": "execute_result"
    }
   ],
   "source": [
    "pred_price"
   ]
  },
  {
   "cell_type": "code",
   "execution_count": 130,
   "id": "66fb8277",
   "metadata": {},
   "outputs": [],
   "source": [
    "\n",
    "df = [[curr_date,pred_price,percent_movement,net_change,total_movement,decision]]\n",
    "\n",
    "# df_dict ={\n",
    "#     'Date':curr_date,\n",
    "#     'Prev_Price':last_price,\n",
    "#     'Percent_Movement':percent_movement\n",
    "# }\n",
    "\n",
    "\n",
    "\n",
    "df_main = pd.DataFrame(df,columns=['Date','Pred_Price','Percent_Movement','net_change','total_movement','Recommendation'])"
   ]
  },
  {
   "cell_type": "code",
   "execution_count": 131,
   "id": "b3a70654",
   "metadata": {},
   "outputs": [
    {
     "data": {
      "text/plain": [
       "[['2021-07-09',\n",
       "  160.92471,\n",
       "  5.552083002833395,\n",
       "  60.49000500000001,\n",
       "  62.80760695270704,\n",
       "  'Sell']]"
      ]
     },
     "execution_count": 131,
     "metadata": {},
     "output_type": "execute_result"
    }
   ],
   "source": [
    "df"
   ]
  },
  {
   "cell_type": "code",
   "execution_count": 132,
   "id": "978121ce",
   "metadata": {},
   "outputs": [],
   "source": [
    "df_main\n",
    "df_main.to_csv('../output/co.csv')"
   ]
  },
  {
   "cell_type": "code",
   "execution_count": null,
   "id": "3f3551dc",
   "metadata": {},
   "outputs": [],
   "source": []
  },
  {
   "cell_type": "code",
   "execution_count": null,
   "id": "9d161296",
   "metadata": {},
   "outputs": [],
   "source": []
  }
 ],
 "metadata": {
  "kernelspec": {
   "display_name": "Python 3 (ipykernel)",
   "language": "python",
   "name": "python3"
  },
  "language_info": {
   "codemirror_mode": {
    "name": "ipython",
    "version": 3
   },
   "file_extension": ".py",
   "mimetype": "text/x-python",
   "name": "python",
   "nbconvert_exporter": "python",
   "pygments_lexer": "ipython3",
   "version": "3.8.10"
  }
 },
 "nbformat": 4,
 "nbformat_minor": 5
}
