{
 "cells": [
  {
   "cell_type": "code",
   "execution_count": 4,
   "id": "e6efffe7",
   "metadata": {},
   "outputs": [],
   "source": [
    "import pandas as pd\n",
    "import re\n",
    "from vaderSentiment.vaderSentiment import SentimentIntensityAnalyzer\n",
    "import matplotlib.pyplot as plt\n",
    "import seaborn as sns\n",
    "from datetime import date\n",
    "import numpy as np\n",
    "from datetime import timedelta\n",
    "from tqdm import tqdm\n",
    "from sklearn.preprocessing import MinMaxScaler\n",
    "import tensorflow as tf \n",
    "from keras.callbacks import TensorBoard\n",
    "from tensorflow import keras\n",
    "\n",
    "from keras.models import Sequential\n",
    "from keras.layers import Dense\n",
    "from keras.layers import LSTM\n",
    "from keras.layers import Dropout\n",
    "from keras.layers import *\n",
    "from sklearn.preprocessing import MinMaxScaler\n",
    "from sklearn.metrics import mean_squared_error\n",
    "from sklearn.metrics import mean_absolute_error\n",
    "from sklearn.model_selection import train_test_split\n",
    "from keras.callbacks import EarlyStopping\n",
    "\n",
    "from tensorflow.keras import backend as K"
   ]
  },
  {
   "cell_type": "code",
   "execution_count": 7,
   "id": "e46c33a7",
   "metadata": {},
   "outputs": [],
   "source": [
    "bo = pd.read_csv('./../models/preprocess_morganstanley.csv')"
   ]
  },
  {
   "cell_type": "code",
   "execution_count": 8,
   "id": "fa8f515c",
   "metadata": {},
   "outputs": [
    {
     "data": {
      "text/html": [
       "<div>\n",
       "<style scoped>\n",
       "    .dataframe tbody tr th:only-of-type {\n",
       "        vertical-align: middle;\n",
       "    }\n",
       "\n",
       "    .dataframe tbody tr th {\n",
       "        vertical-align: top;\n",
       "    }\n",
       "\n",
       "    .dataframe thead th {\n",
       "        text-align: right;\n",
       "    }\n",
       "</style>\n",
       "<table border=\"1\" class=\"dataframe\">\n",
       "  <thead>\n",
       "    <tr style=\"text-align: right;\">\n",
       "      <th></th>\n",
       "      <th>Unnamed: 0</th>\n",
       "      <th>Date</th>\n",
       "      <th>score</th>\n",
       "      <th>Close</th>\n",
       "    </tr>\n",
       "  </thead>\n",
       "  <tbody>\n",
       "    <tr>\n",
       "      <th>0</th>\n",
       "      <td>0</td>\n",
       "      <td>2019-11-13</td>\n",
       "      <td>-0.2500</td>\n",
       "      <td>48.389999</td>\n",
       "    </tr>\n",
       "    <tr>\n",
       "      <th>1</th>\n",
       "      <td>1</td>\n",
       "      <td>2019-11-14</td>\n",
       "      <td>0.6901</td>\n",
       "      <td>48.610001</td>\n",
       "    </tr>\n",
       "    <tr>\n",
       "      <th>2</th>\n",
       "      <td>2</td>\n",
       "      <td>2019-11-15</td>\n",
       "      <td>0.9524</td>\n",
       "      <td>48.990002</td>\n",
       "    </tr>\n",
       "    <tr>\n",
       "      <th>3</th>\n",
       "      <td>3</td>\n",
       "      <td>2019-11-18</td>\n",
       "      <td>0.9081</td>\n",
       "      <td>49.029999</td>\n",
       "    </tr>\n",
       "    <tr>\n",
       "      <th>4</th>\n",
       "      <td>4</td>\n",
       "      <td>2019-11-19</td>\n",
       "      <td>0.8338</td>\n",
       "      <td>49.330002</td>\n",
       "    </tr>\n",
       "    <tr>\n",
       "      <th>...</th>\n",
       "      <td>...</td>\n",
       "      <td>...</td>\n",
       "      <td>...</td>\n",
       "      <td>...</td>\n",
       "    </tr>\n",
       "    <tr>\n",
       "      <th>500</th>\n",
       "      <td>500</td>\n",
       "      <td>2021-11-08</td>\n",
       "      <td>0.5000</td>\n",
       "      <td>100.070000</td>\n",
       "    </tr>\n",
       "    <tr>\n",
       "      <th>501</th>\n",
       "      <td>501</td>\n",
       "      <td>2021-11-09</td>\n",
       "      <td>0.5859</td>\n",
       "      <td>99.709999</td>\n",
       "    </tr>\n",
       "    <tr>\n",
       "      <th>502</th>\n",
       "      <td>502</td>\n",
       "      <td>2021-11-10</td>\n",
       "      <td>0.6908</td>\n",
       "      <td>97.769997</td>\n",
       "    </tr>\n",
       "    <tr>\n",
       "      <th>503</th>\n",
       "      <td>503</td>\n",
       "      <td>2021-11-11</td>\n",
       "      <td>-0.6428</td>\n",
       "      <td>98.879997</td>\n",
       "    </tr>\n",
       "    <tr>\n",
       "      <th>504</th>\n",
       "      <td>504</td>\n",
       "      <td>2021-11-12</td>\n",
       "      <td>0.8020</td>\n",
       "      <td>99.849998</td>\n",
       "    </tr>\n",
       "  </tbody>\n",
       "</table>\n",
       "<p>505 rows × 4 columns</p>\n",
       "</div>"
      ],
      "text/plain": [
       "     Unnamed: 0        Date   score       Close\n",
       "0             0  2019-11-13 -0.2500   48.389999\n",
       "1             1  2019-11-14  0.6901   48.610001\n",
       "2             2  2019-11-15  0.9524   48.990002\n",
       "3             3  2019-11-18  0.9081   49.029999\n",
       "4             4  2019-11-19  0.8338   49.330002\n",
       "..          ...         ...     ...         ...\n",
       "500         500  2021-11-08  0.5000  100.070000\n",
       "501         501  2021-11-09  0.5859   99.709999\n",
       "502         502  2021-11-10  0.6908   97.769997\n",
       "503         503  2021-11-11 -0.6428   98.879997\n",
       "504         504  2021-11-12  0.8020   99.849998\n",
       "\n",
       "[505 rows x 4 columns]"
      ]
     },
     "execution_count": 8,
     "metadata": {},
     "output_type": "execute_result"
    }
   ],
   "source": [
    "bo"
   ]
  },
  {
   "cell_type": "code",
   "execution_count": 9,
   "id": "2fdf412d",
   "metadata": {},
   "outputs": [
    {
     "name": "stdout",
     "output_type": "stream",
     "text": [
      "323 81 101\n"
     ]
    }
   ],
   "source": [
    "train_data, test_data  = bo[0:int(len(bo)*0.8)], bo[int(len(bo)*0.8):]\n",
    "\n",
    "X_train, X_cv = train_data[0:int(len(train_data)*0.8)], train_data[int(len(train_data)*0.8):]\n",
    "print(len(X_train), len(X_cv), len(test_data))"
   ]
  },
  {
   "cell_type": "code",
   "execution_count": 10,
   "id": "6cf901ce",
   "metadata": {},
   "outputs": [],
   "source": [
    "def create_dataset(dataset, scoreset, look_back=1):\n",
    "\tdataX, dataY = [], []\n",
    "\tfor i in range(len(dataset)-look_back-1):\n",
    "\t\ta = dataset[i:(i+look_back), 0]\n",
    "\t\tb = scoreset[i+look_back-1]\n",
    "\t\tdataX.append(np.append(a,b))\n",
    "\t\tdataY.append(dataset[i + look_back, 0])\n",
    "\treturn np.array(dataX), np.array(dataY)"
   ]
  },
  {
   "cell_type": "code",
   "execution_count": 11,
   "id": "7a0c82f8",
   "metadata": {},
   "outputs": [],
   "source": [
    "\n",
    "# Feature Scaling\n",
    "sc = MinMaxScaler()\n",
    "training_set_scaled = sc.fit_transform(X_train['Close'].values.reshape(-1, 1))\n",
    "cv_set_scaled = sc.transform(X_cv['Close'].values.reshape(-1, 1))\n",
    "test_set_scaled = sc.transform(test_data['Close'].values.reshape(-1, 1))\n",
    "\n",
    "sc1 = MinMaxScaler()\n",
    "training_score_scaled = sc1.fit_transform(X_train['score'].values.reshape(-1, 1))\n",
    "cv_score_scaled = sc1.transform(X_cv['score'].values.reshape(-1, 1))\n",
    "test_score_scaled = sc1.transform(test_data['score'].values.reshape(-1, 1))\n",
    "\n",
    "#Creating Dataset with window size = 60 + News Sentiment of Last Day\n",
    "trainX, trainY = create_dataset(training_set_scaled, training_score_scaled, 10)\n",
    "cvX, cvY = create_dataset(cv_set_scaled, cv_score_scaled, 10)\n",
    "testX, testY = create_dataset(test_set_scaled, test_score_scaled, 10)\n"
   ]
  },
  {
   "cell_type": "code",
   "execution_count": 12,
   "id": "7aebc913",
   "metadata": {},
   "outputs": [
    {
     "data": {
      "text/plain": [
       "((312, 11), (70, 11), (90, 11))"
      ]
     },
     "execution_count": 12,
     "metadata": {},
     "output_type": "execute_result"
    }
   ],
   "source": [
    "trainX.shape, cvX.shape, testX.shape"
   ]
  },
  {
   "cell_type": "code",
   "execution_count": 13,
   "id": "f7b6056e",
   "metadata": {},
   "outputs": [],
   "source": [
    "trainX, trainY = np.array(trainX), np.array(trainY)\n",
    "trainX = np.reshape(trainX, (trainX.shape[0], trainX.shape[1], 1))\n",
    "\n",
    "cvX, cvY = np.array(cvX), np.array(cvY)\n",
    "cvX = np.reshape(cvX, (cvX.shape[0], cvX.shape[1], 1))\n",
    "\n",
    "testX, testY = np.array(testX), np.array(testY)\n",
    "testX = np.reshape(testX, (testX.shape[0], testX.shape[1], 1))"
   ]
  },
  {
   "cell_type": "code",
   "execution_count": 14,
   "id": "bc74c5db",
   "metadata": {},
   "outputs": [],
   "source": [
    "def root_mean_squared_error(y_true, y_pred):\n",
    "    return K.sqrt(K.mean(K.square(y_pred - y_true)))"
   ]
  },
  {
   "cell_type": "code",
   "execution_count": 16,
   "id": "c2672901",
   "metadata": {},
   "outputs": [],
   "source": [
    "model = keras.models.load_model('./../models/model_morganStanley.h5')\n",
    "\n",
    "predicted_stock_price = model.predict(testX)\n",
    "\n",
    "predicted_stock_price = sc.inverse_transform(predicted_stock_price)"
   ]
  },
  {
   "cell_type": "code",
   "execution_count": 17,
   "id": "ebf8dec6",
   "metadata": {},
   "outputs": [
    {
     "data": {
      "text/plain": [
       "array([[ 93.339745],\n",
       "       [ 94.00347 ],\n",
       "       [ 93.73798 ],\n",
       "       [ 93.773476],\n",
       "       [ 94.45059 ],\n",
       "       [ 94.20959 ],\n",
       "       [ 93.47648 ],\n",
       "       [ 95.54777 ],\n",
       "       [ 94.87236 ],\n",
       "       [ 95.059364],\n",
       "       [ 95.80776 ],\n",
       "       [ 96.3598  ],\n",
       "       [ 95.605415],\n",
       "       [ 97.40895 ],\n",
       "       [ 97.16033 ],\n",
       "       [ 99.39855 ],\n",
       "       [ 99.93528 ],\n",
       "       [ 98.93098 ],\n",
       "       [ 99.90809 ],\n",
       "       [ 99.957855],\n",
       "       [100.2846  ],\n",
       "       [100.94155 ],\n",
       "       [101.19649 ],\n",
       "       [101.34531 ],\n",
       "       [103.05182 ],\n",
       "       [104.077736],\n",
       "       [105.83493 ],\n",
       "       [106.74511 ],\n",
       "       [107.94636 ],\n",
       "       [108.56868 ],\n",
       "       [108.406654],\n",
       "       [107.157974],\n",
       "       [106.93217 ],\n",
       "       [106.744225],\n",
       "       [106.056885],\n",
       "       [107.27035 ],\n",
       "       [107.175354],\n",
       "       [108.07722 ],\n",
       "       [108.03251 ],\n",
       "       [109.253845],\n",
       "       [109.71293 ],\n",
       "       [109.892555],\n",
       "       [110.07707 ],\n",
       "       [110.166954],\n",
       "       [109.725655],\n",
       "       [109.016136],\n",
       "       [108.27094 ],\n",
       "       [109.2368  ],\n",
       "       [109.27567 ],\n",
       "       [107.872   ],\n",
       "       [108.7913  ],\n",
       "       [108.30631 ],\n",
       "       [107.4951  ],\n",
       "       [106.47249 ],\n",
       "       [105.9038  ],\n",
       "       [106.13188 ],\n",
       "       [106.359406],\n",
       "       [107.04288 ],\n",
       "       [106.60618 ],\n",
       "       [107.21532 ],\n",
       "       [106.6636  ],\n",
       "       [106.10074 ],\n",
       "       [104.71458 ],\n",
       "       [104.29283 ],\n",
       "       [103.47843 ],\n",
       "       [103.689804],\n",
       "       [103.068054],\n",
       "       [103.41389 ],\n",
       "       [102.70903 ],\n",
       "       [102.72249 ],\n",
       "       [101.90081 ],\n",
       "       [104.19636 ],\n",
       "       [104.33107 ],\n",
       "       [104.86957 ],\n",
       "       [105.768105],\n",
       "       [105.94572 ],\n",
       "       [105.905716],\n",
       "       [105.96291 ],\n",
       "       [106.49014 ],\n",
       "       [106.59363 ],\n",
       "       [107.06086 ],\n",
       "       [107.496254],\n",
       "       [107.45811 ],\n",
       "       [107.96481 ],\n",
       "       [108.06214 ],\n",
       "       [108.065025],\n",
       "       [107.719055],\n",
       "       [106.6265  ],\n",
       "       [106.06873 ],\n",
       "       [105.32597 ]], dtype=float32)"
      ]
     },
     "execution_count": 17,
     "metadata": {},
     "output_type": "execute_result"
    }
   ],
   "source": [
    "predicted_stock_price"
   ]
  },
  {
   "cell_type": "code",
   "execution_count": 22,
   "id": "9b7f9302",
   "metadata": {},
   "outputs": [
    {
     "data": {
      "image/png": "[encoded data removed]",
      "text/plain": [
       "<Figure size 1152x432 with 1 Axes>"
      ]
     },
     "metadata": {
      "needs_background": "light"
     },
     "output_type": "display_data"
    },
    {
     "name": "stdout",
     "output_type": "stream",
     "text": [
      "RMSE_LSTM = 4.9297096054292835\n"
     ]
    }
   ],
   "source": [
    "plt.figure(figsize=(16, 6))\n",
    "plt.plot(train_data['Date'], train_data['Close'], color = 'blue', label = 'Train Data')\n",
    "plt.plot(test_data['Date'], test_data['Close'].values, color = 'orange', label = 'Test Data')\n",
    "plt.plot(test_data.iloc[11:]['Date'], predicted_stock_price, color = 'green', label = 'Predicted Data')\n",
    "plt.title('Price Prediction using LSTM')\n",
    "plt.xlabel('Years')\n",
    "plt.ylabel('Prices')\n",
    "plt.legend()\n",
    "plt.show()\n",
    "from math import sqrt\n",
    "\n",
    "RMSE_LSTM = sqrt(mean_squared_error(test_data.iloc[11:]['Close'].values, predicted_stock_price))\n",
    "\n",
    "print(f\"RMSE_LSTM = {RMSE_LSTM}\")"
   ]
  },
  {
   "cell_type": "code",
   "execution_count": 94,
   "id": "0c0fd0fa",
   "metadata": {},
   "outputs": [],
   "source": [
    "df = pd.DataFrame(bo['Date'][len(bo)-90:len(bo),])  ## pred dates\n",
    "curr_date = df['Date'][415] # current future date\n",
    "\n"
   ]
  },
  {
   "cell_type": "code",
   "execution_count": 95,
   "id": "8de58715",
   "metadata": {},
   "outputs": [
    {
     "data": {
      "text/plain": [
       "87.639999"
      ]
     },
     "execution_count": 95,
     "metadata": {},
     "output_type": "execute_result"
    }
   ],
   "source": [
    "last_price = bo['Close'][414]  # last closing price before today\n",
    "last_price"
   ]
  },
  {
   "cell_type": "code",
   "execution_count": 96,
   "id": "ec305e8f",
   "metadata": {},
   "outputs": [],
   "source": [
    "pred_price = predicted_stock_price[0][0]# pred stock price"
   ]
  },
  {
   "cell_type": "code",
   "execution_count": 97,
   "id": "18ee5a03",
   "metadata": {},
   "outputs": [],
   "source": [
    "percent_movement = (predicted_stock_price[0][0]-last_price)/last_price*100 #stock movement"
   ]
  },
  {
   "cell_type": "code",
   "execution_count": 137,
   "id": "1afb8c52",
   "metadata": {},
   "outputs": [
    {
     "data": {
      "text/plain": [
       "106.34428614061346"
      ]
     },
     "execution_count": 137,
     "metadata": {},
     "output_type": "execute_result"
    }
   ],
   "source": [
    "start_price = bo['Close'][0]\n",
    "end_price = bo['Close'][504]\n",
    "\n",
    "net_change = end_price-start_price\n",
    "net_change\n",
    "\n",
    "total_movement = net_change/start_price*100\n",
    "total_movement"
   ]
  },
  {
   "cell_type": "code",
   "execution_count": 146,
   "id": "83cca326",
   "metadata": {},
   "outputs": [
    {
     "data": {
      "text/plain": [
       "89.391818"
      ]
     },
     "execution_count": 146,
     "metadata": {},
     "output_type": "execute_result"
    }
   ],
   "source": [
    "sd = bo['Close'][404:415].std()\n",
    "sd\n",
    "\n",
    "mean = bo['Close'][404:415].mean()\n",
    "mean\n",
    "\n"
   ]
  },
  {
   "cell_type": "code",
   "execution_count": 165,
   "id": "755516f5",
   "metadata": {},
   "outputs": [
    {
     "data": {
      "text/plain": [
       "'Sell'"
      ]
     },
     "execution_count": 165,
     "metadata": {},
     "output_type": "execute_result"
    }
   ],
   "source": [
    "sma10 = bo['Close'].rolling(window = 10).mean()\n",
    "sma10 = sma10.mean()\n",
    "\n",
    "n=1\n",
    "\n",
    "decision =\"\"\n",
    "\n",
    "if (pred_price<=(mean-n*sd)):\n",
    "    decision = \"Buy\"\n",
    "elif (pred_price>=(mean+n*sd)):\n",
    "    decision=\"Sell\"\n",
    "else:\n",
    "    decision=\"Hold\"\n",
    "    \n",
    "decision"
   ]
  },
  {
   "cell_type": "code",
   "execution_count": 168,
   "id": "311cc190",
   "metadata": {},
   "outputs": [
    {
     "data": {
      "text/plain": [
       "93.339745"
      ]
     },
     "execution_count": 168,
     "metadata": {},
     "output_type": "execute_result"
    }
   ],
   "source": [
    "pred_price"
   ]
  },
  {
   "cell_type": "code",
   "execution_count": 169,
   "id": "66fb8277",
   "metadata": {},
   "outputs": [],
   "source": [
    "\n",
    "df = [[curr_date,pred_price,percent_movement,net_change,total_movement,decision]]\n",
    "\n",
    "# df_dict ={\n",
    "#     'Date':curr_date,\n",
    "#     'Prev_Price':last_price,\n",
    "#     'Percent_Movement':percent_movement\n",
    "# }\n",
    "\n",
    "\n",
    "\n",
    "df_main = pd.DataFrame(df,columns=['Date','Pred_Price','Percent_Movement','net_change','total_movement','Recommendation'])"
   ]
  },
  {
   "cell_type": "code",
   "execution_count": 170,
   "id": "b3a70654",
   "metadata": {},
   "outputs": [
    {
     "data": {
      "text/plain": [
       "[['2021-07-09',\n",
       "  93.339745,\n",
       "  6.503589266210614,\n",
       "  51.459998999999996,\n",
       "  106.34428614061346,\n",
       "  'Sell']]"
      ]
     },
     "execution_count": 170,
     "metadata": {},
     "output_type": "execute_result"
    }
   ],
   "source": [
    "df"
   ]
  },
  {
   "cell_type": "code",
   "execution_count": 171,
   "id": "978121ce",
   "metadata": {},
   "outputs": [
    {
     "data": {
      "text/html": [
       "<div>\n",
       "<style scoped>\n",
       "    .dataframe tbody tr th:only-of-type {\n",
       "        vertical-align: middle;\n",
       "    }\n",
       "\n",
       "    .dataframe tbody tr th {\n",
       "        vertical-align: top;\n",
       "    }\n",
       "\n",
       "    .dataframe thead th {\n",
       "        text-align: right;\n",
       "    }\n",
       "</style>\n",
       "<table border=\"1\" class=\"dataframe\">\n",
       "  <thead>\n",
       "    <tr style=\"text-align: right;\">\n",
       "      <th></th>\n",
       "      <th>Date</th>\n",
       "      <th>Pred_Price</th>\n",
       "      <th>Percent_Movement</th>\n",
       "      <th>net_change</th>\n",
       "      <th>total_movement</th>\n",
       "      <th>Recommendation</th>\n",
       "    </tr>\n",
       "  </thead>\n",
       "  <tbody>\n",
       "    <tr>\n",
       "      <th>0</th>\n",
       "      <td>2021-07-09</td>\n",
       "      <td>93.339745</td>\n",
       "      <td>6.503589</td>\n",
       "      <td>51.459999</td>\n",
       "      <td>106.344286</td>\n",
       "      <td>Sell</td>\n",
       "    </tr>\n",
       "  </tbody>\n",
       "</table>\n",
       "</div>"
      ],
      "text/plain": [
       "         Date  Pred_Price  Percent_Movement  net_change  total_movement  \\\n",
       "0  2021-07-09   93.339745          6.503589   51.459999      106.344286   \n",
       "\n",
       "  Recommendation  \n",
       "0           Sell  "
      ]
     },
     "execution_count": 171,
     "metadata": {},
     "output_type": "execute_result"
    }
   ],
   "source": [
    "df_main"
   ]
  },
  {
   "cell_type": "code",
   "execution_count": null,
   "id": "3f3551dc",
   "metadata": {},
   "outputs": [],
   "source": []
  },
  {
   "cell_type": "code",
   "execution_count": null,
   "id": "9d161296",
   "metadata": {},
   "outputs": [],
   "source": []
  }
 ],
 "metadata": {
  "kernelspec": {
   "display_name": "Python 3 (ipykernel)",
   "language": "python",
   "name": "python3"
  },
  "language_info": {
   "codemirror_mode": {
    "name": "ipython",
    "version": 3
   },
   "file_extension": ".py",
   "mimetype": "text/x-python",
   "name": "python",
   "nbconvert_exporter": "python",
   "pygments_lexer": "ipython3",
   "version": "3.9.5"
  }
 },
 "nbformat": 4,
 "nbformat_minor": 5
}
